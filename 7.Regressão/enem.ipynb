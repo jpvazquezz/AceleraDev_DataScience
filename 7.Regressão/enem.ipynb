{
 "cells": [
  {
   "cell_type": "markdown",
   "metadata": {},
   "source": [
    "# Prevendo as notas de matemática do ENEM 2016 \n",
    "### Nesse desafio, devemos elaborar um modelo de regressão que seja capaz de prever a nota de matemática do ENEM 2016"
   ]
  },
  {
   "cell_type": "code",
   "execution_count": 1,
   "metadata": {},
   "outputs": [],
   "source": [
    "import pandas as pd\n",
    "import seaborn as sns\n",
    "from sklearn.preprocessing import LabelEncoder\n",
    "from sklearn.model_selection import train_test_split\n",
    "from sklearn.linear_model import LinearRegression ,Ridge\n",
    "from sklearn.metrics import mean_squared_error\n",
    "from sklearn.preprocessing import StandardScaler\n",
    "from sklearn.tree import DecisionTreeRegressor\n",
    "from sklearn.neural_network import MLPRegressor"
   ]
  },
  {
   "cell_type": "code",
   "execution_count": 2,
   "metadata": {},
   "outputs": [],
   "source": [
    "df_treino = pd.read_csv('train.csv', index_col='Unnamed: 0')\n",
    "df_teste = pd.read_csv('test.csv')"
   ]
  },
  {
   "cell_type": "markdown",
   "metadata": {},
   "source": [
    "# Visão Geral"
   ]
  },
  {
   "cell_type": "markdown",
   "metadata": {},
   "source": [
    "Aqui vamos obter a visão geral dos dataset que estamos trabalhando, obtendo informações comoo número de observações e colunas, o nomes das variáveis, o tipo de dados presentes, a quantidade de dados ausentes, etc."
   ]
  },
  {
   "cell_type": "code",
   "execution_count": 3,
   "metadata": {},
   "outputs": [
    {
     "data": {
      "text/plain": [
       "(13730, 166)"
      ]
     },
     "execution_count": 3,
     "metadata": {},
     "output_type": "execute_result"
    }
   ],
   "source": [
    "df_treino.shape"
   ]
  },
  {
   "cell_type": "code",
   "execution_count": 4,
   "metadata": {},
   "outputs": [
    {
     "data": {
      "text/plain": [
       "(4576, 47)"
      ]
     },
     "execution_count": 4,
     "metadata": {},
     "output_type": "execute_result"
    }
   ],
   "source": [
    "df_teste.shape"
   ]
  },
  {
   "cell_type": "code",
   "execution_count": 5,
   "metadata": {},
   "outputs": [
    {
     "data": {
      "text/plain": [
       "Index(['NU_INSCRICAO', 'NU_ANO', 'CO_MUNICIPIO_RESIDENCIA',\n",
       "       'NO_MUNICIPIO_RESIDENCIA', 'CO_UF_RESIDENCIA', 'SG_UF_RESIDENCIA',\n",
       "       'NU_IDADE', 'TP_SEXO', 'TP_ESTADO_CIVIL', 'TP_COR_RACA',\n",
       "       ...\n",
       "       'Q041', 'Q042', 'Q043', 'Q044', 'Q045', 'Q046', 'Q047', 'Q048', 'Q049',\n",
       "       'Q050'],\n",
       "      dtype='object', length=166)"
      ]
     },
     "execution_count": 5,
     "metadata": {},
     "output_type": "execute_result"
    }
   ],
   "source": [
    "df_treino.columns"
   ]
  },
  {
   "cell_type": "code",
   "execution_count": 6,
   "metadata": {},
   "outputs": [
    {
     "data": {
      "text/plain": [
       "Index(['NU_INSCRICAO', 'CO_UF_RESIDENCIA', 'SG_UF_RESIDENCIA', 'NU_IDADE',\n",
       "       'TP_SEXO', 'TP_COR_RACA', 'TP_NACIONALIDADE', 'TP_ST_CONCLUSAO',\n",
       "       'TP_ANO_CONCLUIU', 'TP_ESCOLA', 'TP_ENSINO', 'IN_TREINEIRO',\n",
       "       'TP_DEPENDENCIA_ADM_ESC', 'IN_BAIXA_VISAO', 'IN_CEGUEIRA', 'IN_SURDEZ',\n",
       "       'IN_DISLEXIA', 'IN_DISCALCULIA', 'IN_SABATISTA', 'IN_GESTANTE',\n",
       "       'IN_IDOSO', 'TP_PRESENCA_CN', 'TP_PRESENCA_CH', 'TP_PRESENCA_LC',\n",
       "       'CO_PROVA_CN', 'CO_PROVA_CH', 'CO_PROVA_LC', 'CO_PROVA_MT',\n",
       "       'NU_NOTA_CN', 'NU_NOTA_CH', 'NU_NOTA_LC', 'TP_LINGUA',\n",
       "       'TP_STATUS_REDACAO', 'NU_NOTA_COMP1', 'NU_NOTA_COMP2', 'NU_NOTA_COMP3',\n",
       "       'NU_NOTA_COMP4', 'NU_NOTA_COMP5', 'NU_NOTA_REDACAO', 'Q001', 'Q002',\n",
       "       'Q006', 'Q024', 'Q025', 'Q026', 'Q027', 'Q047'],\n",
       "      dtype='object')"
      ]
     },
     "execution_count": 6,
     "metadata": {},
     "output_type": "execute_result"
    }
   ],
   "source": [
    "df_teste.columns"
   ]
  },
  {
   "cell_type": "code",
   "execution_count": 7,
   "metadata": {},
   "outputs": [
    {
     "data": {
      "text/plain": [
       "int64      78\n",
       "object     60\n",
       "float64    28\n",
       "dtype: int64"
      ]
     },
     "execution_count": 7,
     "metadata": {},
     "output_type": "execute_result"
    }
   ],
   "source": [
    "df_treino.dtypes.value_counts()"
   ]
  },
  {
   "cell_type": "code",
   "execution_count": 8,
   "metadata": {},
   "outputs": [
    {
     "data": {
      "text/plain": [
       "int64      20\n",
       "object     15\n",
       "float64    12\n",
       "dtype: int64"
      ]
     },
     "execution_count": 8,
     "metadata": {},
     "output_type": "execute_result"
    }
   ],
   "source": [
    "df_teste.dtypes.value_counts()"
   ]
  },
  {
   "cell_type": "code",
   "execution_count": 9,
   "metadata": {},
   "outputs": [
    {
     "data": {
      "text/plain": [
       "NO_ENTIDADE_CERTIFICACAO       12092\n",
       "CO_UF_ENTIDADE_CERTIFICACAO    12092\n",
       "SG_UF_ENTIDADE_CERTIFICACAO    12092\n",
       "Q041                           10792\n",
       "SG_UF_ESC                       9448\n",
       "TP_LOCALIZACAO_ESC              9448\n",
       "TP_SIT_FUNC_ESC                 9448\n",
       "CO_UF_ESC                       9448\n",
       "NO_MUNICIPIO_ESC                9448\n",
       "CO_MUNICIPIO_ESC                9448\n",
       "CO_ESCOLA                       9448\n",
       "TP_ENSINO                       9448\n",
       "TP_DEPENDENCIA_ADM_ESC          9448\n",
       "Q032                            7376\n",
       "Q031                            7376\n",
       "Q028                            7376\n",
       "Q033                            7376\n",
       "Q030                            7375\n",
       "Q029                            7375\n",
       "Q027                            7373\n",
       "NU_NOTA_COMP1                   3597\n",
       "NU_NOTA_LC                      3597\n",
       "NU_NOTA_REDACAO                 3597\n",
       "NU_NOTA_MT                      3597\n",
       "TP_STATUS_REDACAO               3597\n",
       "NU_NOTA_COMP5                   3597\n",
       "TX_RESPOSTAS_LC                 3597\n",
       "TX_RESPOSTAS_MT                 3597\n",
       "NU_NOTA_COMP4                   3597\n",
       "NU_NOTA_COMP3                   3597\n",
       "NU_NOTA_COMP2                   3597\n",
       "TX_GABARITO_MT                  3597\n",
       "TX_GABARITO_LC                  3597\n",
       "TX_RESPOSTAS_CN                 3389\n",
       "NU_NOTA_CN                      3389\n",
       "NU_NOTA_CH                      3389\n",
       "TX_RESPOSTAS_CH                 3389\n",
       "TX_GABARITO_CN                  3389\n",
       "TX_GABARITO_CH                  3389\n",
       "SG_UF_NASCIMENTO                 609\n",
       "CO_UF_NASCIMENTO                 609\n",
       "NO_MUNICIPIO_NASCIMENTO          609\n",
       "CO_MUNICIPIO_NASCIMENTO          609\n",
       "TP_ESTADO_CIVIL                  528\n",
       "dtype: int64"
      ]
     },
     "execution_count": 9,
     "metadata": {},
     "output_type": "execute_result"
    }
   ],
   "source": [
    "# Dados faltantes no dataset de treino\n",
    "df_treino.isna().sum()[df_treino.isna().sum()>0].sort_values(ascending=False)"
   ]
  },
  {
   "cell_type": "code",
   "execution_count": 10,
   "metadata": {},
   "outputs": [
    {
     "data": {
      "text/plain": [
       "TP_DEPENDENCIA_ADM_ESC    3096\n",
       "TP_ENSINO                 3096\n",
       "Q027                      2488\n",
       "NU_NOTA_REDACAO           1199\n",
       "NU_NOTA_COMP5             1199\n",
       "NU_NOTA_COMP4             1199\n",
       "NU_NOTA_COMP3             1199\n",
       "NU_NOTA_COMP2             1199\n",
       "NU_NOTA_COMP1             1199\n",
       "TP_STATUS_REDACAO         1199\n",
       "NU_NOTA_LC                1199\n",
       "NU_NOTA_CH                1134\n",
       "NU_NOTA_CN                1134\n",
       "dtype: int64"
      ]
     },
     "execution_count": 10,
     "metadata": {},
     "output_type": "execute_result"
    }
   ],
   "source": [
    "# Dados faltantes no dataset de teste\n",
    "df_teste.isna().sum()[df_teste.isna().sum()>0].sort_values(ascending=False)"
   ]
  },
  {
   "cell_type": "markdown",
   "metadata": {},
   "source": [
    "### Pré-processamento dos dados"
   ]
  },
  {
   "cell_type": "markdown",
   "metadata": {},
   "source": [
    "Primeiramente, iremos filtrar o dataset de treinamento pelas features que o dataset de teste possui, reduzindo assim a quantidade de variáveis a serem tratadas"
   ]
  },
  {
   "cell_type": "code",
   "execution_count": 11,
   "metadata": {},
   "outputs": [],
   "source": [
    "colunas = list(df_teste.columns)\n",
    "# Lembrando de deixar a coluna 'NU_NOTA_MT'\n",
    "colunas.append('NU_NOTA_MT')\n",
    "df_treino = df_treino[colunas]"
   ]
  },
  {
   "cell_type": "markdown",
   "metadata": {},
   "source": [
    "Assim, partimos para a analisar das features. Primeiro, levando em consideração os dados faltantes(NAs) em termos absoluto e percental."
   ]
  },
  {
   "cell_type": "code",
   "execution_count": 12,
   "metadata": {},
   "outputs": [
    {
     "data": {
      "text/plain": [
       "TP_DEPENDENCIA_ADM_ESC    9448\n",
       "TP_ENSINO                 9448\n",
       "Q027                      7373\n",
       "NU_NOTA_MT                3597\n",
       "NU_NOTA_REDACAO           3597\n",
       "NU_NOTA_COMP5             3597\n",
       "NU_NOTA_COMP4             3597\n",
       "NU_NOTA_COMP3             3597\n",
       "NU_NOTA_COMP2             3597\n",
       "NU_NOTA_COMP1             3597\n",
       "TP_STATUS_REDACAO         3597\n",
       "NU_NOTA_LC                3597\n",
       "NU_NOTA_CH                3389\n",
       "NU_NOTA_CN                3389\n",
       "dtype: int64"
      ]
     },
     "execution_count": 12,
     "metadata": {},
     "output_type": "execute_result"
    }
   ],
   "source": [
    "df_treino.isna().sum()[df_treino.isna().sum()>0].sort_values(ascending=False)"
   ]
  },
  {
   "cell_type": "code",
   "execution_count": 13,
   "metadata": {},
   "outputs": [
    {
     "data": {
      "text/plain": [
       "TP_DEPENDENCIA_ADM_ESC    0.688128\n",
       "TP_ENSINO                 0.688128\n",
       "Q027                      0.536999\n",
       "NU_NOTA_MT                0.261981\n",
       "NU_NOTA_REDACAO           0.261981\n",
       "NU_NOTA_COMP5             0.261981\n",
       "NU_NOTA_COMP4             0.261981\n",
       "NU_NOTA_COMP3             0.261981\n",
       "NU_NOTA_COMP2             0.261981\n",
       "NU_NOTA_COMP1             0.261981\n",
       "TP_STATUS_REDACAO         0.261981\n",
       "NU_NOTA_LC                0.261981\n",
       "NU_NOTA_CH                0.246832\n",
       "NU_NOTA_CN                0.246832\n",
       "dtype: float64"
      ]
     },
     "execution_count": 13,
     "metadata": {},
     "output_type": "execute_result"
    }
   ],
   "source": [
    "df_treino.isna().sum()[df_treino.isna().sum()>0].sort_values(ascending=False)/df_treino.shape[0]"
   ]
  },
  {
   "cell_type": "markdown",
   "metadata": {},
   "source": [
    "Como as variáveis `TP_DEPENDENCIA_ADM_ESC` e `TP_ENSINO` possuem mais de 2/3 de valores faltantes, decidimos excluí-las"
   ]
  },
  {
   "cell_type": "code",
   "execution_count": 14,
   "metadata": {},
   "outputs": [],
   "source": [
    "df_treino = df_treino.drop(['TP_DEPENDENCIA_ADM_ESC', 'TP_ENSINO'], axis=1)"
   ]
  },
  {
   "cell_type": "markdown",
   "metadata": {},
   "source": [
    "Em seguida, imputamos a nota 0 para aqueles estudantes que faltaram à prova (`TP_PRESENCA_XX` igual a 0) ou que foram eliminados (`TP_PRESENCA_XX` igual a 2). Como não há a coluna de presença na prova de matemática em ambos datasetes, utilizando a coluna de presença na prova de linguagens e códigos, uma vez que elas são realizadas juntas. "
   ]
  },
  {
   "cell_type": "code",
   "execution_count": 15,
   "metadata": {},
   "outputs": [
    {
     "name": "stderr",
     "output_type": "stream",
     "text": [
      "c:\\users\\dell\\codenation\\venv\\lib\\site-packages\\pandas\\core\\indexing.py:190: SettingWithCopyWarning: \n",
      "A value is trying to be set on a copy of a slice from a DataFrame\n",
      "\n",
      "See the caveats in the documentation: http://pandas.pydata.org/pandas-docs/stable/indexing.html#indexing-view-versus-copy\n",
      "  self._setitem_with_indexer(indexer, value)\n"
     ]
    }
   ],
   "source": [
    "df_treino.NU_NOTA_CN.loc[df_treino.TP_PRESENCA_CN == 0] = 0\n",
    "df_treino.NU_NOTA_CN.loc[df_treino.TP_PRESENCA_CN == 2] = 0\n",
    "\n",
    "df_treino.NU_NOTA_CH.loc[df_treino.TP_PRESENCA_CH == 0] = 0\n",
    "df_treino.NU_NOTA_CH.loc[df_treino.TP_PRESENCA_CH == 2] = 0\n",
    "\n",
    "df_treino.NU_NOTA_LC.loc[df_treino.TP_PRESENCA_LC == 0] = 0\n",
    "df_treino.NU_NOTA_LC.loc[df_treino.TP_PRESENCA_LC == 2] = 0\n",
    "\n",
    "df_treino.NU_NOTA_MT.loc[df_treino.TP_PRESENCA_LC== 0] = 0\n",
    "df_treino.NU_NOTA_MT.loc[df_treino.TP_PRESENCA_LC == 2] = 0"
   ]
  },
  {
   "cell_type": "markdown",
   "metadata": {},
   "source": [
    "De maneira semelhante, os valores faltantes para as compentências também foram imputadas com 0 seguindo a nota de redação ao passo que o status da redação foi alterado para a categoria 4 (prova em branco)."
   ]
  },
  {
   "cell_type": "code",
   "execution_count": 16,
   "metadata": {},
   "outputs": [],
   "source": [
    "df_treino.NU_NOTA_COMP1.loc[pd.isnull(df_treino.NU_NOTA_COMP1)] = 0\n",
    "df_treino.NU_NOTA_COMP2.loc[pd.isnull(df_treino.NU_NOTA_COMP2)] = 0\n",
    "df_treino.NU_NOTA_COMP3.loc[pd.isnull(df_treino.NU_NOTA_COMP3)] = 0\n",
    "df_treino.NU_NOTA_COMP4.loc[pd.isnull(df_treino.NU_NOTA_COMP4)] = 0\n",
    "df_treino.NU_NOTA_COMP5.loc[pd.isnull(df_treino.NU_NOTA_COMP5)] = 0\n",
    "df_treino.NU_NOTA_REDACAO.loc[pd.isnull(df_treino.NU_NOTA_REDACAO)] = 0\n",
    "df_treino.TP_STATUS_REDACAO.loc[pd.isnull(df_treino.TP_STATUS_REDACAO)] = 4"
   ]
  },
  {
   "cell_type": "markdown",
   "metadata": {},
   "source": [
    "Alteramos o Status da redação para reduzir suas categorias para apenas duas: 1 para redação sem problemas e 0 para redação com problemas(redação anulada, cópia do texto motivador, em branco, fere os direitos humanos, fuga ao tema, não atendimento ao tipo, texto insuficiente ou parte desconectada)"
   ]
  },
  {
   "cell_type": "code",
   "execution_count": 17,
   "metadata": {},
   "outputs": [],
   "source": [
    "df_treino.TP_STATUS_REDACAO = df_treino.TP_STATUS_REDACAO.where(cond=df_treino.TP_STATUS_REDACAO==1, other=0)"
   ]
  },
  {
   "cell_type": "markdown",
   "metadata": {},
   "source": [
    "A última variável com dados faltantes, a`Q027` não apresentava uma opção para aqueles que não havima começado uma atividade remunada, então optamos por criar uma, a 'S' "
   ]
  },
  {
   "cell_type": "code",
   "execution_count": 18,
   "metadata": {},
   "outputs": [],
   "source": [
    "df_treino.Q027.loc[df_treino.Q027.isna()==True] = 'S'"
   ]
  },
  {
   "cell_type": "markdown",
   "metadata": {},
   "source": [
    "Em seguida, excluimos aquelas variáveis que não agregam à análise"
   ]
  },
  {
   "cell_type": "code",
   "execution_count": 19,
   "metadata": {},
   "outputs": [],
   "source": [
    "df_treino = df_treino.drop(['SG_UF_RESIDENCIA','NU_INSCRICAO','CO_PROVA_CN','CO_PROVA_CH', 'CO_PROVA_LC', 'CO_PROVA_MT'], axis = 1)"
   ]
  },
  {
   "cell_type": "markdown",
   "metadata": {},
   "source": [
    "Por fim, faremos o enconding das variáveis categóricas com o intuito de transformá-las em variáveis contínuas para que sejam compatíveis com o modelo de regressão a ser aplicado."
   ]
  },
  {
   "cell_type": "code",
   "execution_count": 20,
   "metadata": {},
   "outputs": [],
   "source": [
    "labelenconder = LabelEncoder()"
   ]
  },
  {
   "cell_type": "code",
   "execution_count": 21,
   "metadata": {},
   "outputs": [],
   "source": [
    "df_treino.TP_SEXO = labelenconder.fit_transform(df_treino.TP_SEXO)\n",
    "df_treino.Q001 = labelenconder.fit_transform(df_treino.Q001)\n",
    "df_treino.Q002 = labelenconder.fit_transform(df_treino.Q002)\n",
    "df_treino.Q006 = labelenconder.fit_transform(df_treino.Q006)\n",
    "df_treino.Q024 = labelenconder.fit_transform(df_treino.Q024)\n",
    "df_treino.Q025 = labelenconder.fit_transform(df_treino.Q025)\n",
    "df_treino.Q026 = labelenconder.fit_transform(df_treino.Q026)\n",
    "df_treino.Q027 = labelenconder.fit_transform(df_treino.Q027)\n",
    "df_treino.Q047 = labelenconder.fit_transform(df_treino.Q047)"
   ]
  },
  {
   "cell_type": "code",
   "execution_count": 22,
   "metadata": {},
   "outputs": [],
   "source": [
    "df_treino = df_treino.drop(['TP_COR_RACA','IN_CEGUEIRA','IN_SURDEZ','IN_DISLEXIA', 'IN_DISCALCULIA','IN_SABATISTA',\n",
    "         'IN_GESTANTE','IN_IDOSO', 'TP_NACIONALIDADE','TP_ST_CONCLUSAO','IN_BAIXA_VISAO',\n",
    "         'CO_UF_RESIDENCIA','TP_SEXO','IN_TREINEIRO','TP_ANO_CONCLUIU', 'TP_LINGUA','Q001','Q002','Q024','Q025','Q027','Q047'],\n",
    "        axis = 1)"
   ]
  },
  {
   "cell_type": "markdown",
   "metadata": {},
   "source": [
    "# Criação de uma função pra tratamento dos dados de teste"
   ]
  },
  {
   "cell_type": "code",
   "execution_count": 23,
   "metadata": {},
   "outputs": [],
   "source": [
    "def tratamento(df_teste):\n",
    "    df_teste= df_teste.drop(['TP_DEPENDENCIA_ADM_ESC', 'TP_ENSINO'], axis=1)\n",
    "    df_teste.NU_NOTA_CN.loc[df_teste.TP_PRESENCA_CN == 0] = 0\n",
    "    df_teste.NU_NOTA_CN.loc[df_teste.TP_PRESENCA_CN == 2] = 0\n",
    "    df_teste.NU_NOTA_CH.loc[df_teste.TP_PRESENCA_CH == 0] = 0\n",
    "    df_teste.NU_NOTA_CH.loc[df_teste.TP_PRESENCA_CH == 2] = 0\n",
    "    df_teste.NU_NOTA_LC.loc[df_teste.TP_PRESENCA_LC == 0] = 0\n",
    "    df_teste.NU_NOTA_LC.loc[df_teste.TP_PRESENCA_LC == 2] = 0\n",
    "    df_teste.NU_NOTA_COMP1.loc[pd.isnull(df_teste.NU_NOTA_COMP1)] = 0\n",
    "    df_teste.NU_NOTA_COMP2.loc[pd.isnull(df_teste.NU_NOTA_COMP2)] = 0\n",
    "    df_teste.NU_NOTA_COMP3.loc[pd.isnull(df_teste.NU_NOTA_COMP3)] = 0\n",
    "    df_teste.NU_NOTA_COMP4.loc[pd.isnull(df_teste.NU_NOTA_COMP4)] = 0\n",
    "    df_teste.NU_NOTA_COMP5.loc[pd.isnull(df_teste.NU_NOTA_COMP5)] = 0\n",
    "    df_teste.NU_NOTA_REDACAO.loc[pd.isnull(df_teste.NU_NOTA_REDACAO)] = 0\n",
    "    df_teste.TP_STATUS_REDACAO.loc[pd.isnull(df_teste.TP_STATUS_REDACAO)] = 4\n",
    "    df_teste.TP_STATUS_REDACAO = df_teste.TP_STATUS_REDACAO.where(cond=df_teste.TP_STATUS_REDACAO==1, other=0)\n",
    "    df_teste.Q027.loc[df_teste.Q027.isna()==True] = 'S'\n",
    "    df_teste.drop(['SG_UF_RESIDENCIA','NU_INSCRICAO','CO_PROVA_CN','CO_PROVA_CH', 'CO_PROVA_LC', 'CO_PROVA_MT'], axis = 1, inplace = True)\n",
    "    df_teste.TP_SEXO = labelenconder.fit_transform(df_teste.TP_SEXO)\n",
    "    df_teste.Q001 = labelenconder.fit_transform(df_teste.Q001)\n",
    "    df_teste.Q002 = labelenconder.fit_transform(df_teste.Q002)\n",
    "    df_teste.Q006 = labelenconder.fit_transform(df_teste.Q006)\n",
    "    df_teste.Q024 = labelenconder.fit_transform(df_teste.Q024)\n",
    "    df_teste.Q025 = labelenconder.fit_transform(df_teste.Q025)\n",
    "    df_teste.Q026 = labelenconder.fit_transform(df_teste.Q026)\n",
    "    df_teste.Q027 = labelenconder.fit_transform(df_teste.Q027)\n",
    "    df_teste.Q047 = labelenconder.fit_transform(df_teste.Q047)\n",
    "    return df_teste"
   ]
  },
  {
   "cell_type": "code",
   "execution_count": 24,
   "metadata": {
    "scrolled": false
   },
   "outputs": [],
   "source": [
    "teste = tratamento(df_teste)"
   ]
  },
  {
   "cell_type": "code",
   "execution_count": 25,
   "metadata": {},
   "outputs": [],
   "source": [
    "teste = teste.drop(['TP_COR_RACA','IN_CEGUEIRA','IN_SURDEZ','IN_DISLEXIA', 'IN_DISCALCULIA','IN_SABATISTA',\n",
    "         'IN_GESTANTE','IN_IDOSO', 'TP_NACIONALIDADE','TP_ST_CONCLUSAO','IN_BAIXA_VISAO',\n",
    "         'CO_UF_RESIDENCIA','TP_SEXO','IN_TREINEIRO','TP_ANO_CONCLUIU', 'TP_LINGUA','Q001','Q002','Q024','Q025','Q027','Q047'],\n",
    "        axis = 1)"
   ]
  },
  {
   "cell_type": "markdown",
   "metadata": {},
   "source": [
    "# Prepação para o modelo de regressão"
   ]
  },
  {
   "cell_type": "markdown",
   "metadata": {},
   "source": [
    "A prepação para modelo de regressão envolve a utilização do dataset de treinamento por meio do Train-Test Split, em que lançaremos mão do método do próprio Sklearn"
   ]
  },
  {
   "cell_type": "code",
   "execution_count": 26,
   "metadata": {},
   "outputs": [],
   "source": [
    "scaler = StandardScaler()"
   ]
  },
  {
   "cell_type": "code",
   "execution_count": 27,
   "metadata": {},
   "outputs": [],
   "source": [
    "x = df_treino.drop('NU_NOTA_MT', axis=1)\n",
    "x = scaler.fit_transform(x)\n",
    "y = df_treino.NU_NOTA_MT\n"
   ]
  },
  {
   "cell_type": "code",
   "execution_count": 28,
   "metadata": {},
   "outputs": [],
   "source": [
    "X_treino, X_teste, Y_treino, Y_teste = train_test_split(x, y, test_size = 0.3332847778587036)"
   ]
  },
  {
   "cell_type": "code",
   "execution_count": 29,
   "metadata": {},
   "outputs": [
    {
     "name": "stdout",
     "output_type": "stream",
     "text": [
      "(9154, 17) (4576, 17) (9154,) (4576,)\n"
     ]
    }
   ],
   "source": [
    "print(X_treino.shape, X_teste.shape, Y_treino.shape, Y_teste.shape)"
   ]
  },
  {
   "cell_type": "markdown",
   "metadata": {},
   "source": [
    "# Treinando o modelo de regressão"
   ]
  },
  {
   "cell_type": "code",
   "execution_count": 30,
   "metadata": {},
   "outputs": [],
   "source": [
    "linear = LinearRegression()"
   ]
  },
  {
   "cell_type": "code",
   "execution_count": 31,
   "metadata": {},
   "outputs": [
    {
     "data": {
      "text/plain": [
       "LinearRegression()"
      ]
     },
     "execution_count": 31,
     "metadata": {},
     "output_type": "execute_result"
    }
   ],
   "source": [
    "linear.fit(X_treino, Y_treino)"
   ]
  },
  {
   "cell_type": "code",
   "execution_count": 32,
   "metadata": {},
   "outputs": [],
   "source": [
    "y_pred = linear.predict(X_teste)"
   ]
  },
  {
   "cell_type": "code",
   "execution_count": 33,
   "metadata": {},
   "outputs": [
    {
     "data": {
      "text/plain": [
       "array([501.57669636,  30.88919636, 501.92044636, ..., 486.54544636,\n",
       "       559.67044636, 393.01419636])"
      ]
     },
     "execution_count": 33,
     "metadata": {},
     "output_type": "execute_result"
    }
   ],
   "source": [
    "y_pred"
   ]
  },
  {
   "cell_type": "code",
   "execution_count": 34,
   "metadata": {},
   "outputs": [
    {
     "data": {
      "text/plain": [
       "4601.536224297282"
      ]
     },
     "execution_count": 34,
     "metadata": {},
     "output_type": "execute_result"
    }
   ],
   "source": [
    "mean_squared_error(Y_teste, y_pred)"
   ]
  },
  {
   "cell_type": "code",
   "execution_count": 35,
   "metadata": {},
   "outputs": [
    {
     "data": {
      "text/plain": [
       "0.9127076261537909"
      ]
     },
     "execution_count": 35,
     "metadata": {},
     "output_type": "execute_result"
    }
   ],
   "source": [
    "linear.score(X_treino, Y_treino)"
   ]
  },
  {
   "cell_type": "code",
   "execution_count": 36,
   "metadata": {
    "scrolled": true
   },
   "outputs": [
    {
     "data": {
      "text/plain": [
       "0.9119612961958233"
      ]
     },
     "execution_count": 36,
     "metadata": {},
     "output_type": "execute_result"
    }
   ],
   "source": [
    "linear.score(X_teste, Y_teste)"
   ]
  },
  {
   "cell_type": "markdown",
   "metadata": {},
   "source": [
    "# Aplicação do modelo ao dataset de teste"
   ]
  },
  {
   "cell_type": "code",
   "execution_count": 37,
   "metadata": {},
   "outputs": [],
   "source": [
    "set_test = scaler.fit_transform(teste)"
   ]
  },
  {
   "cell_type": "code",
   "execution_count": 38,
   "metadata": {},
   "outputs": [],
   "source": [
    "pred_final = linear.predict(set_test)"
   ]
  },
  {
   "cell_type": "code",
   "execution_count": 39,
   "metadata": {},
   "outputs": [
    {
     "data": {
      "text/plain": [
       "(4576, 17)"
      ]
     },
     "execution_count": 39,
     "metadata": {},
     "output_type": "execute_result"
    }
   ],
   "source": [
    "set_test.shape"
   ]
  },
  {
   "cell_type": "code",
   "execution_count": 40,
   "metadata": {},
   "outputs": [
    {
     "data": {
      "text/plain": [
       "0      -5.377472e+08\n",
       "1       5.752635e+10\n",
       "2      -1.895220e+10\n",
       "3      -1.197119e+11\n",
       "4      -1.614203e+10\n",
       "5       5.142256e+10\n",
       "6       5.906482e+10\n",
       "7       1.013138e+10\n",
       "8       1.155905e+11\n",
       "9       5.752635e+10\n",
       "10     -1.197119e+11\n",
       "11     -1.197119e+11\n",
       "12      6.328337e+10\n",
       "13      9.309517e+09\n",
       "14      9.384038e+10\n",
       "15      6.791374e+10\n",
       "16     -1.197119e+11\n",
       "17     -1.197119e+11\n",
       "18     -1.197119e+11\n",
       "19     -3.587667e+09\n",
       "20      6.027148e+10\n",
       "21     -1.197119e+11\n",
       "22     -1.197119e+11\n",
       "23      8.427486e+10\n",
       "24      1.247442e+11\n",
       "25      4.346053e+10\n",
       "26      1.232707e+11\n",
       "27      1.630021e+10\n",
       "28      1.774663e+10\n",
       "29     -1.197119e+11\n",
       "            ...     \n",
       "4546   -1.197119e+11\n",
       "4547   -1.197119e+11\n",
       "4548    4.685722e+10\n",
       "4549   -1.197119e+11\n",
       "4550    2.995423e+10\n",
       "4551   -3.869405e+09\n",
       "4552    3.921496e+10\n",
       "4553    6.702684e+10\n",
       "4554    3.461160e+10\n",
       "4555    7.055581e+10\n",
       "4556    5.410265e+10\n",
       "4557    6.363015e+10\n",
       "4558    4.947228e+10\n",
       "4559    1.205465e+10\n",
       "4560    1.186404e+11\n",
       "4561    1.198961e+10\n",
       "4562    3.153468e+10\n",
       "4563    3.396004e+10\n",
       "4564    9.425219e+10\n",
       "4565    5.378288e+10\n",
       "4566    3.549850e+10\n",
       "4567    8.496445e+10\n",
       "4568    1.325029e+10\n",
       "4569    4.229189e+10\n",
       "4570    6.174491e+10\n",
       "4571    2.093058e+10\n",
       "4572    5.135752e+10\n",
       "4573    8.163279e+10\n",
       "4574    4.367328e+10\n",
       "4575   -1.197119e+11\n",
       "Length: 4576, dtype: float64"
      ]
     },
     "execution_count": 40,
     "metadata": {},
     "output_type": "execute_result"
    }
   ],
   "source": [
    "pd.Series(pred_final)"
   ]
  },
  {
   "cell_type": "code",
   "execution_count": 41,
   "metadata": {},
   "outputs": [],
   "source": [
    "resposta = pd.DataFrame({'NU_INSCRICAO':df_teste.NU_INSCRICAO, 'NU_NOTA_MT':pred_final})"
   ]
  },
  {
   "cell_type": "code",
   "execution_count": 42,
   "metadata": {},
   "outputs": [],
   "source": [
    "resposta.to_csv('answer.csv',index=False)"
   ]
  }
 ],
 "metadata": {
  "kernelspec": {
   "display_name": "Python 3",
   "language": "python",
   "name": "python3"
  },
  "language_info": {
   "codemirror_mode": {
    "name": "ipython",
    "version": 3
   },
   "file_extension": ".py",
   "mimetype": "text/x-python",
   "name": "python",
   "nbconvert_exporter": "python",
   "pygments_lexer": "ipython3",
   "version": "3.7.6"
  }
 },
 "nbformat": 4,
 "nbformat_minor": 2
}
